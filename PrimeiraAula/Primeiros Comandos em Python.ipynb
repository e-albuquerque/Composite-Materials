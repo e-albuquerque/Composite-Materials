{
  "cells": [
    {
      "metadata": {
        "collapsed": true
      },
      "cell_type": "markdown",
      "source": "# Introdução ao Python no Jupyter Notebook"
    },
    {
      "metadata": {},
      "cell_type": "markdown",
      "source": "# Markdown vs code"
    },
    {
      "metadata": {},
      "cell_type": "markdown",
      "source": "# Isto é um texto:\n\\begin{equation}\n\\nabla^2 u=0\n\\end{equation}"
    },
    {
      "metadata": {
        "trusted": true
      },
      "cell_type": "code",
      "source": "# Isto é código Python\na=2\nb=3\nprint(\"Soma = \",a+b)",
      "execution_count": 1,
      "outputs": [
        {
          "output_type": "stream",
          "text": "Soma =  5\n",
          "name": "stdout"
        }
      ]
    },
    {
      "metadata": {},
      "cell_type": "markdown",
      "source": "# Primeiros comandos em Python"
    },
    {
      "metadata": {},
      "cell_type": "markdown",
      "source": "## Comando for"
    },
    {
      "metadata": {
        "trusted": true
      },
      "cell_type": "code",
      "source": "for i in range(4):\n    print(i)",
      "execution_count": 2,
      "outputs": [
        {
          "output_type": "stream",
          "text": "0\n1\n2\n3\n",
          "name": "stdout"
        }
      ]
    },
    {
      "metadata": {
        "trusted": true
      },
      "cell_type": "code",
      "source": "for i in range(1,4):\n    print(i)",
      "execution_count": 2,
      "outputs": [
        {
          "output_type": "stream",
          "text": "1\n2\n3\n",
          "name": "stdout"
        }
      ]
    },
    {
      "metadata": {
        "trusted": true
      },
      "cell_type": "code",
      "source": "for i in range(4,1,-1):   # range(start,end,step)\n    print(i)",
      "execution_count": 3,
      "outputs": [
        {
          "output_type": "stream",
          "text": "4\n3\n2\n",
          "name": "stdout"
        }
      ]
    },
    {
      "metadata": {},
      "cell_type": "markdown",
      "source": "## Listas"
    },
    {
      "metadata": {},
      "cell_type": "markdown",
      "source": "Listas:  estrutura de dados composta por itens de tipos heterogêneos (ou não) organizados de forma linear, na qual cada um pode ser acessado a partir de um índice, que é um número inteiro, iniciando em zero."
    },
    {
      "metadata": {
        "trusted": true
      },
      "cell_type": "code",
      "source": "u=[1,4.,'a']\nprint(u)",
      "execution_count": 4,
      "outputs": [
        {
          "output_type": "stream",
          "text": "[1, 4.0, 'a']\n",
          "name": "stdout"
        }
      ]
    },
    {
      "metadata": {
        "trusted": true,
        "scrolled": true
      },
      "cell_type": "code",
      "source": "type(u)",
      "execution_count": 5,
      "outputs": [
        {
          "output_type": "execute_result",
          "execution_count": 5,
          "data": {
            "text/plain": "list"
          },
          "metadata": {}
        }
      ]
    },
    {
      "metadata": {
        "trusted": true
      },
      "cell_type": "code",
      "source": "u[0]",
      "execution_count": 6,
      "outputs": [
        {
          "output_type": "execute_result",
          "execution_count": 6,
          "data": {
            "text/plain": "1"
          },
          "metadata": {}
        }
      ]
    },
    {
      "metadata": {
        "trusted": true
      },
      "cell_type": "code",
      "source": "u[1]",
      "execution_count": 7,
      "outputs": [
        {
          "output_type": "execute_result",
          "execution_count": 7,
          "data": {
            "text/plain": "4.0"
          },
          "metadata": {}
        }
      ]
    },
    {
      "metadata": {
        "trusted": true
      },
      "cell_type": "code",
      "source": "u[2]",
      "execution_count": 8,
      "outputs": [
        {
          "output_type": "execute_result",
          "execution_count": 8,
          "data": {
            "text/plain": "'a'"
          },
          "metadata": {}
        }
      ]
    },
    {
      "metadata": {
        "trusted": true
      },
      "cell_type": "code",
      "source": "type(u[2])",
      "execution_count": 9,
      "outputs": [
        {
          "output_type": "execute_result",
          "execution_count": 9,
          "data": {
            "text/plain": "str"
          },
          "metadata": {}
        }
      ]
    },
    {
      "metadata": {
        "trusted": true
      },
      "cell_type": "code",
      "source": "type(u[1])",
      "execution_count": 10,
      "outputs": [
        {
          "output_type": "execute_result",
          "execution_count": 10,
          "data": {
            "text/plain": "float"
          },
          "metadata": {}
        }
      ]
    },
    {
      "metadata": {
        "trusted": true
      },
      "cell_type": "code",
      "source": "type(u[0])",
      "execution_count": 11,
      "outputs": [
        {
          "output_type": "execute_result",
          "execution_count": 11,
          "data": {
            "text/plain": "int"
          },
          "metadata": {}
        }
      ]
    },
    {
      "metadata": {},
      "cell_type": "markdown",
      "source": "Último elemento da lista"
    },
    {
      "metadata": {
        "trusted": true
      },
      "cell_type": "code",
      "source": "u[-2]",
      "execution_count": 13,
      "outputs": [
        {
          "output_type": "execute_result",
          "execution_count": 13,
          "data": {
            "text/plain": "4.0"
          },
          "metadata": {}
        }
      ]
    },
    {
      "metadata": {},
      "cell_type": "markdown",
      "source": "Um elemento de uma lista pode ser uma lista"
    },
    {
      "metadata": {
        "trusted": true
      },
      "cell_type": "code",
      "source": "v=[3.2,'x',u]\nprint(v)",
      "execution_count": 14,
      "outputs": [
        {
          "output_type": "stream",
          "text": "[3.2, 'x', [1, 4.0, 'a']]\n",
          "name": "stdout"
        }
      ]
    },
    {
      "metadata": {},
      "cell_type": "markdown",
      "source": "Concatenação de listas"
    },
    {
      "metadata": {
        "trusted": true,
        "scrolled": true
      },
      "cell_type": "code",
      "source": "w=v+u\nprint(w)",
      "execution_count": 15,
      "outputs": [
        {
          "output_type": "stream",
          "text": "[3.2, 'x', [1, 4.0, 'a'], 1, 4.0, 'a']\n",
          "name": "stdout"
        }
      ]
    },
    {
      "metadata": {},
      "cell_type": "markdown",
      "source": "Inclusão de itens em uma lista"
    },
    {
      "metadata": {
        "trusted": true
      },
      "cell_type": "code",
      "source": "w.append('xy')\n",
      "execution_count": 20,
      "outputs": []
    },
    {
      "metadata": {
        "trusted": true
      },
      "cell_type": "code",
      "source": "print(w)",
      "execution_count": 21,
      "outputs": [
        {
          "output_type": "stream",
          "text": "[3.2, 'x', [1, 4.0, 'a'], 1, 4.0, 'a', 'xy', 'xy', 'xy']\n",
          "name": "stdout"
        }
      ]
    },
    {
      "metadata": {
        "trusted": true
      },
      "cell_type": "code",
      "source": "for i in w:\n    print(i)",
      "execution_count": 22,
      "outputs": [
        {
          "output_type": "stream",
          "text": "3.2\nx\n[1, 4.0, 'a']\n1\n4.0\na\nxy\nxy\nxy\n",
          "name": "stdout"
        }
      ]
    },
    {
      "metadata": {},
      "cell_type": "markdown",
      "source": "## Cópia vs referência"
    },
    {
      "metadata": {},
      "cell_type": "markdown",
      "source": "Referência"
    },
    {
      "metadata": {
        "trusted": true
      },
      "cell_type": "code",
      "source": "s=u # faz referência a u\nprint(s)\nprint(u)",
      "execution_count": 23,
      "outputs": [
        {
          "output_type": "stream",
          "text": "[1, 4.0, 'a']\n[1, 4.0, 'a']\n",
          "name": "stdout"
        }
      ]
    },
    {
      "metadata": {
        "trusted": true
      },
      "cell_type": "code",
      "source": "s[1]=3\nprint(s)\nprint(u)",
      "execution_count": 24,
      "outputs": [
        {
          "output_type": "stream",
          "text": "[1, 3, 'a']\n[1, 3, 'a']\n",
          "name": "stdout"
        }
      ]
    },
    {
      "metadata": {},
      "cell_type": "markdown",
      "source": "Cópia"
    },
    {
      "metadata": {
        "trusted": true
      },
      "cell_type": "code",
      "source": "u=[1,4.,'a']\ns=u[:] # faz uma cópia de u\nprint(s)\nprint(u)",
      "execution_count": 25,
      "outputs": [
        {
          "output_type": "stream",
          "text": "[1, 4.0, 'a']\n[1, 4.0, 'a']\n",
          "name": "stdout"
        }
      ]
    },
    {
      "metadata": {
        "trusted": true
      },
      "cell_type": "code",
      "source": "s[1]=3\nprint(s)\nprint(u)",
      "execution_count": 26,
      "outputs": [
        {
          "output_type": "stream",
          "text": "[1, 3, 'a']\n[1, 4.0, 'a']\n",
          "name": "stdout"
        }
      ]
    },
    {
      "metadata": {},
      "cell_type": "markdown",
      "source": "## Dicionários"
    },
    {
      "metadata": {},
      "cell_type": "markdown",
      "source": "Dicionários: Funciona como as listas, porém os índices não são mais números inteiros"
    },
    {
      "metadata": {
        "trusted": true
      },
      "cell_type": "code",
      "source": "contato={'Yan': '1234-5678', 'Pedro': '9999-9999', 'Ana': '8765-4321',\n  'Marina': '8877-7788'}",
      "execution_count": 27,
      "outputs": []
    },
    {
      "metadata": {
        "trusted": true
      },
      "cell_type": "code",
      "source": "type(contato)",
      "execution_count": 28,
      "outputs": [
        {
          "output_type": "execute_result",
          "execution_count": 28,
          "data": {
            "text/plain": "dict"
          },
          "metadata": {}
        }
      ]
    },
    {
      "metadata": {
        "trusted": true
      },
      "cell_type": "code",
      "source": "contato['Yan']",
      "execution_count": 29,
      "outputs": [
        {
          "output_type": "execute_result",
          "execution_count": 29,
          "data": {
            "text/plain": "'1234-5678'"
          },
          "metadata": {}
        }
      ]
    },
    {
      "metadata": {
        "trusted": true
      },
      "cell_type": "code",
      "source": "contato['Pedro']",
      "execution_count": 30,
      "outputs": [
        {
          "output_type": "execute_result",
          "execution_count": 30,
          "data": {
            "text/plain": "'9999-9999'"
          },
          "metadata": {}
        }
      ]
    },
    {
      "metadata": {
        "trusted": true
      },
      "cell_type": "code",
      "source": "contato[0]",
      "execution_count": 31,
      "outputs": [
        {
          "output_type": "error",
          "ename": "KeyError",
          "evalue": "0",
          "traceback": [
            "\u001b[0;31m---------------------------------------------------------------------------\u001b[0m",
            "\u001b[0;31mKeyError\u001b[0m                                  Traceback (most recent call last)",
            "\u001b[0;32m<ipython-input-31-1610fa42eeef>\u001b[0m in \u001b[0;36m<module>\u001b[0;34m\u001b[0m\n\u001b[0;32m----> 1\u001b[0;31m \u001b[0mcontato\u001b[0m\u001b[0;34m[\u001b[0m\u001b[0;36m0\u001b[0m\u001b[0;34m]\u001b[0m\u001b[0;34m\u001b[0m\u001b[0m\n\u001b[0m",
            "\u001b[0;31mKeyError\u001b[0m: 0"
          ]
        }
      ]
    },
    {
      "metadata": {
        "trusted": true
      },
      "cell_type": "code",
      "source": "'Yan' in contato",
      "execution_count": 32,
      "outputs": [
        {
          "output_type": "execute_result",
          "execution_count": 32,
          "data": {
            "text/plain": "True"
          },
          "metadata": {}
        }
      ]
    },
    {
      "metadata": {
        "trusted": true
      },
      "cell_type": "code",
      "source": "'9999-9999' in contato",
      "execution_count": 33,
      "outputs": [
        {
          "output_type": "execute_result",
          "execution_count": 33,
          "data": {
            "text/plain": "False"
          },
          "metadata": {}
        }
      ]
    },
    {
      "metadata": {
        "trusted": true
      },
      "cell_type": "code",
      "source": "'9999-9999' in contato.values()",
      "execution_count": 34,
      "outputs": [
        {
          "output_type": "execute_result",
          "execution_count": 34,
          "data": {
            "text/plain": "True"
          },
          "metadata": {}
        }
      ]
    },
    {
      "metadata": {
        "trusted": true
      },
      "cell_type": "code",
      "source": "contato['Juca']='125'",
      "execution_count": 39,
      "outputs": []
    },
    {
      "metadata": {
        "trusted": true
      },
      "cell_type": "code",
      "source": "print(contato)",
      "execution_count": 40,
      "outputs": [
        {
          "output_type": "stream",
          "text": "{'Yan': '1234-5678', 'Pedro': '9999-9999', 'Ana': '8765-4321', 'Marina': '8877-7788', 'Juca': '125'}\n",
          "name": "stdout"
        }
      ]
    },
    {
      "metadata": {
        "trusted": true
      },
      "cell_type": "code",
      "source": "del contato['Juca']",
      "execution_count": 41,
      "outputs": []
    },
    {
      "metadata": {
        "trusted": true
      },
      "cell_type": "code",
      "source": "print(contato)",
      "execution_count": 42,
      "outputs": [
        {
          "output_type": "stream",
          "text": "{'Yan': '1234-5678', 'Pedro': '9999-9999', 'Ana': '8765-4321', 'Marina': '8877-7788'}\n",
          "name": "stdout"
        }
      ]
    },
    {
      "metadata": {
        "trusted": true
      },
      "cell_type": "code",
      "source": "for nome in contato:\n    print('%s: %s' %(nome,contato[nome]))",
      "execution_count": 43,
      "outputs": [
        {
          "output_type": "stream",
          "text": "Yan: 1234-5678\nPedro: 9999-9999\nAna: 8765-4321\nMarina: 8877-7788\n",
          "name": "stdout"
        }
      ]
    },
    {
      "metadata": {
        "trusted": true
      },
      "cell_type": "code",
      "source": "contato.keys()",
      "execution_count": 44,
      "outputs": [
        {
          "output_type": "execute_result",
          "execution_count": 44,
          "data": {
            "text/plain": "dict_keys(['Yan', 'Pedro', 'Ana', 'Marina'])"
          },
          "metadata": {}
        }
      ]
    },
    {
      "metadata": {
        "trusted": true
      },
      "cell_type": "code",
      "source": "temps = {'Oslo': 13, 'London': 15.4, 'Paris': 17.5}\n# or\ntemps = dict(Oslo=13, London=15.4, Paris=17.5)",
      "execution_count": 45,
      "outputs": []
    },
    {
      "metadata": {
        "trusted": true
      },
      "cell_type": "code",
      "source": "temps",
      "execution_count": 46,
      "outputs": [
        {
          "output_type": "execute_result",
          "execution_count": 46,
          "data": {
            "text/plain": "{'Oslo': 13, 'London': 15.4, 'Paris': 17.5}"
          },
          "metadata": {}
        }
      ]
    },
    {
      "metadata": {
        "trusted": true
      },
      "cell_type": "code",
      "source": "temps['Madrid'] = 26.0\nprint(temps)",
      "execution_count": 47,
      "outputs": [
        {
          "output_type": "stream",
          "text": "{'Oslo': 13, 'London': 15.4, 'Paris': 17.5, 'Madrid': 26.0}\n",
          "name": "stdout"
        }
      ]
    },
    {
      "metadata": {
        "trusted": true
      },
      "cell_type": "code",
      "source": "for city in temps:\n    print('The temperature in %s is %g' %(city, temps[city]))",
      "execution_count": 48,
      "outputs": [
        {
          "output_type": "stream",
          "text": "The temperature in Oslo is 13\nThe temperature in London is 15.4\nThe temperature in Paris is 17.5\nThe temperature in Madrid is 26\n",
          "name": "stdout"
        }
      ]
    },
    {
      "metadata": {},
      "cell_type": "markdown",
      "source": "## Python numérico: Numpy"
    },
    {
      "metadata": {
        "trusted": true
      },
      "cell_type": "code",
      "source": "import numpy as np # Importa a biblioteca numpy que daqui para frente será referenciada com np",
      "execution_count": 49,
      "outputs": []
    },
    {
      "metadata": {},
      "cell_type": "markdown",
      "source": "Definição de matrizes (array de 2 dimensões)"
    },
    {
      "metadata": {
        "trusted": true
      },
      "cell_type": "code",
      "source": "a=np.array([[1,2],[1,2]],dtype=int)\nb=np.zeros((2,2),dtype=int)\nc=np.ones((2,2),dtype=int)\nd=b+c",
      "execution_count": 50,
      "outputs": []
    },
    {
      "metadata": {
        "trusted": true
      },
      "cell_type": "code",
      "source": "print(\"a = \",a)\nprint(\"b = \",b)\nprint(\"c = \",c)\nprint(\"d = \",d)",
      "execution_count": 51,
      "outputs": [
        {
          "output_type": "stream",
          "text": "a =  [[1 2]\n [1 2]]\nb =  [[0 0]\n [0 0]]\nc =  [[1 1]\n [1 1]]\nd =  [[1 1]\n [1 1]]\n",
          "name": "stdout"
        }
      ]
    },
    {
      "metadata": {
        "trusted": true
      },
      "cell_type": "code",
      "source": "",
      "execution_count": null,
      "outputs": []
    },
    {
      "metadata": {},
      "cell_type": "markdown",
      "source": "Soma de escalar com matriz"
    },
    {
      "metadata": {
        "trusted": true
      },
      "cell_type": "code",
      "source": "print(a+1)",
      "execution_count": 80,
      "outputs": [
        {
          "output_type": "stream",
          "text": "[[2 3]\n [2 3]]\n",
          "name": "stdout"
        }
      ]
    },
    {
      "metadata": {},
      "cell_type": "markdown",
      "source": "Resolução de sistemas lineares"
    },
    {
      "metadata": {
        "trusted": true
      },
      "cell_type": "code",
      "source": "A=np.array([[1,2,3],[4,3,2],[2,2,1]])\nb=np.array([1,1,2])\nx=np.linalg.solve(A,b)\nresid=np.dot(A,x)-b # dot = produto interno (escalar)",
      "execution_count": 52,
      "outputs": []
    },
    {
      "metadata": {
        "trusted": true
      },
      "cell_type": "code",
      "source": "print(\"A = \",A)\nprint(\"b = \",b)\nprint(\"x = \",x)\nprint(\"resid = \",resid)",
      "execution_count": 53,
      "outputs": [
        {
          "output_type": "stream",
          "text": "A =  [[1 2 3]\n [4 3 2]\n [2 2 1]]\nb =  [1 1 2]\nx =  [-1.4  3.  -1.2]\nresid =  [0.0000000e+00 4.4408921e-16 0.0000000e+00]\n",
          "name": "stdout"
        }
      ]
    },
    {
      "metadata": {},
      "cell_type": "markdown",
      "source": "Concatenação de matrizes"
    },
    {
      "metadata": {
        "trusted": true
      },
      "cell_type": "code",
      "source": "a=np.array([1,2,3])\nb=np.array([3,2,1])\nc=np.vstack((a,b)) # Concatenação vertical (stack = pilha ou empilhar)\nd=np.hstack((a,b)) # Concatenação horizontal",
      "execution_count": 54,
      "outputs": []
    },
    {
      "metadata": {
        "trusted": true
      },
      "cell_type": "code",
      "source": "print(\"a = \",a)\nprint(\"b = \",b)\nprint(\"c = \",c)\nprint(\"d = \",d)",
      "execution_count": 55,
      "outputs": [
        {
          "output_type": "stream",
          "text": "a =  [1 2 3]\nb =  [3 2 1]\nc =  [[1 2 3]\n [3 2 1]]\nd =  [1 2 3 3 2 1]\n",
          "name": "stdout"
        }
      ]
    },
    {
      "metadata": {},
      "cell_type": "markdown",
      "source": "## Formatando o print"
    },
    {
      "metadata": {
        "trusted": true
      },
      "cell_type": "code",
      "source": "from IPython.display import display, Markdown\n\na = 13.49\nb = 2.2544223\nc = 3.\nA = a*b\nV = a*b*c\n\ndisplay(Markdown(\n   rf\"\"\"\nDimensões: ${a}$ m $\\times\\,{b:5.2}$ m  $\\times\\,{c:5.2}$ m\n\nÁrea: ${A:8.4}$ m$^2$\n\nVolume: ${V:8.4}$ m$^3$\n\"\"\"))",
      "execution_count": 2,
      "outputs": [
        {
          "output_type": "display_data",
          "data": {
            "text/markdown": "\nDimensões: $13.49$ m $\\times\\,  2.3$ m  $\\times\\,  3.0$ m\n\nÁrea: $   30.41$ m$^2$\n\nVolume: $   91.24$ m$^3$\n",
            "text/plain": "<IPython.core.display.Markdown object>"
          },
          "metadata": {}
        }
      ]
    },
    {
      "metadata": {},
      "cell_type": "markdown",
      "source": "# Gráficos em Python usando o matplotlib.pyplot"
    },
    {
      "metadata": {},
      "cell_type": "markdown",
      "source": "Gráficos simples"
    },
    {
      "metadata": {
        "trusted": true
      },
      "cell_type": "code",
      "source": "import matplotlib.pyplot as plt\nimport numpy as np",
      "execution_count": 1,
      "outputs": []
    },
    {
      "metadata": {
        "trusted": true
      },
      "cell_type": "code",
      "source": "theta = np.linspace(0,2*np.pi,50) # Cria 50 pontos entre 0 e 2 pi\ny1 = np.sin(theta)\ny2 = np.cos(theta)\nplt.plot(theta,y1,linestyle='-',marker='x',label=r'sin($\\theta$)')\nplt.plot(theta,y2,linestyle=\"--\",marker=\"o\",label=r\"cos($\\theta$)\")\nplt.axis(\"tight\") # Fit the axis tightly to the plot\nplt.title(\"Funções trigonométricas\")\nplt.xlabel(r\"$\\theta$\")\nplt.grid(\"on\")\n# Create a legend of all the existing plots using their labels as names\nplt.legend(loc=\"upper center\",fancybox=\"True\")\nplt.show()",
      "execution_count": 2,
      "outputs": [
        {
          "output_type": "stream",
          "text": "/home/nbuser/anaconda3_501/lib/python3.6/site-packages/matplotlib/cbook/__init__.py:424: MatplotlibDeprecationWarning: \nPassing one of 'on', 'true', 'off', 'false' as a boolean is deprecated; use an actual boolean (True/False) instead.\n  warn_deprecated(\"2.2\", \"Passing one of 'on', 'true', 'off', 'false' as a \"\n",
          "name": "stderr"
        },
        {
          "output_type": "display_data",
          "data": {
            "image/png": "[encoded data removed]",
            "text/plain": "<Figure size 432x288 with 1 Axes>"
          },
          "metadata": {
            "needs_background": "light"
          }
        }
      ]
    },
    {
      "metadata": {},
      "cell_type": "markdown",
      "source": "# Triangulação de Delaunay"
    },
    {
      "metadata": {
        "trusted": true
      },
      "cell_type": "code",
      "source": "# Dada uma nuvem de pontos, cria uma malha triangular com estes pontos",
      "execution_count": null,
      "outputs": []
    },
    {
      "metadata": {
        "trusted": true
      },
      "cell_type": "code",
      "source": "import numpy as np\nimport matplotlib.tri as tri\nimport matplotlib.pyplot as plt\nNOS=np.array([[0.5, 0],[1,0.5],[.5,1],[ 0,.5]]);\nplt.scatter(NOS[:,0],NOS[:,1],marker='x') # Plota os pontos sem ligá-los\nplt.title(\"Foram criados 4 pontos\")\nplt.show() # Para não mostrar <matplotlib.legend.Legend at 0x7f57810b6d68>",
      "execution_count": 59,
      "outputs": [
        {
          "output_type": "display_data",
          "data": {
            "image/png": "[encoded data removed]",
            "text/plain": "<Figure size 432x288 with 1 Axes>"
          },
          "metadata": {
            "needs_background": "light"
          }
        }
      ]
    },
    {
      "metadata": {
        "trusted": true
      },
      "cell_type": "code",
      "source": "triang = tri.Triangulation(NOS[:,0],NOS[:,1])\nelem=triang.triangles\nplt.triplot(NOS[:,0], NOS[:,1], elem, color=(1.,0.,0.))\nplt.title(\"Triangulação de Delaunay\")\nplt.show()",
      "execution_count": 60,
      "outputs": [
        {
          "output_type": "display_data",
          "data": {
            "image/png": "[encoded data removed]",
            "text/plain": "<Figure size 432x288 with 1 Axes>"
          },
          "metadata": {
            "needs_background": "light"
          }
        }
      ]
    },
    {
      "metadata": {
        "trusted": true
      },
      "cell_type": "code",
      "source": "print(NOS)",
      "execution_count": 61,
      "outputs": [
        {
          "output_type": "stream",
          "text": "[[0.5 0. ]\n [1.  0.5]\n [0.5 1. ]\n [0.  0.5]]\n",
          "name": "stdout"
        }
      ]
    },
    {
      "metadata": {
        "trusted": true
      },
      "cell_type": "code",
      "source": "print(elem)",
      "execution_count": 62,
      "outputs": [
        {
          "output_type": "stream",
          "text": "[[1 2 0]\n [0 2 3]]\n",
          "name": "stdout"
        }
      ]
    },
    {
      "metadata": {
        "trusted": true
      },
      "cell_type": "code",
      "source": "T=np.array([0.5,1,0.5,0]);\nncont=3\nplt.tricontourf(NOS[:,0], NOS[:,1], elem, T, ncont)\nplt.title(\"Agora eu posso pintar\")\nplt.colorbar()\nplt.show()",
      "execution_count": 66,
      "outputs": [
        {
          "output_type": "display_data",
          "data": {
            "image/png": "[encoded data removed]",
            "text/plain": "<Figure size 432x288 with 2 Axes>"
          },
          "metadata": {
            "needs_background": "light"
          }
        }
      ]
    },
    {
      "metadata": {
        "trusted": true
      },
      "cell_type": "code",
      "source": "plt.tricontourf(NOS[:,0], NOS[:,1], elem, T, ncont)\nplt.triplot(NOS[:,0], NOS[:,1], elem, color=(0.0,0.,0.))\nplt.title(\"Os dois juntos\")\nplt.colorbar()\nplt.show()",
      "execution_count": 67,
      "outputs": [
        {
          "output_type": "display_data",
          "data": {
            "image/png": "[encoded data removed]",
            "text/plain": "<Figure size 432x288 with 2 Axes>"
          },
          "metadata": {
            "needs_background": "light"
          }
        }
      ]
    },
    {
      "metadata": {},
      "cell_type": "markdown",
      "source": "## Refinamento"
    },
    {
      "metadata": {
        "trusted": true
      },
      "cell_type": "code",
      "source": "subdiv=1\nrefiner = tri.UniformTriRefiner(triang)\ntrimesh = refiner.refine_triangulation(subdiv=subdiv)",
      "execution_count": 68,
      "outputs": []
    },
    {
      "metadata": {
        "trusted": true
      },
      "cell_type": "code",
      "source": "trimesh.triangles",
      "execution_count": 69,
      "outputs": [
        {
          "output_type": "execute_result",
          "execution_count": 69,
          "data": {
            "text/plain": "array([[1, 4, 7],\n       [2, 5, 4],\n       [0, 7, 5],\n       [4, 5, 7],\n       [0, 5, 8],\n       [2, 6, 5],\n       [3, 8, 6],\n       [5, 6, 8]], dtype=int32)"
          },
          "metadata": {}
        }
      ]
    },
    {
      "metadata": {
        "trusted": true
      },
      "cell_type": "code",
      "source": "trimesh.triangles.shape",
      "execution_count": 70,
      "outputs": [
        {
          "output_type": "execute_result",
          "execution_count": 70,
          "data": {
            "text/plain": "(8, 3)"
          },
          "metadata": {}
        }
      ]
    },
    {
      "metadata": {
        "trusted": true
      },
      "cell_type": "code",
      "source": "trimesh.x",
      "execution_count": 72,
      "outputs": [
        {
          "output_type": "execute_result",
          "execution_count": 72,
          "data": {
            "text/plain": "array([0.5 , 1.  , 0.5 , 0.  , 0.75, 0.5 , 0.25, 0.75, 0.25])"
          },
          "metadata": {}
        }
      ]
    },
    {
      "metadata": {
        "trusted": true
      },
      "cell_type": "code",
      "source": "plt.triplot(trimesh, color=(0.0,0.,0.))\nplt.show()",
      "execution_count": 73,
      "outputs": [
        {
          "output_type": "display_data",
          "data": {
            "image/png": "[encoded data removed]",
            "text/plain": "<Figure size 432x288 with 1 Axes>"
          },
          "metadata": {
            "needs_background": "light"
          }
        }
      ]
    },
    {
      "metadata": {
        "trusted": true
      },
      "cell_type": "markdown",
      "source": "# Functions in Python"
    },
    {
      "metadata": {},
      "cell_type": "markdown",
      "source": "Fatorial: algoritmo iterativo"
    },
    {
      "metadata": {
        "trusted": true
      },
      "cell_type": "code",
      "source": "def fat1(n):\n    fat=1\n    if(n>2):\n        for i in range(1,n+1):\n            fat=fat*i\n    return fat",
      "execution_count": 74,
      "outputs": []
    },
    {
      "metadata": {},
      "cell_type": "markdown",
      "source": "Fatorial: algoritmo recursivo"
    },
    {
      "metadata": {
        "trusted": true
      },
      "cell_type": "code",
      "source": "def fat2(n):\n    if(n>1):\n        fat=n*fat2(n-1)\n    else:\n        fat=1\n    return fat",
      "execution_count": 75,
      "outputs": []
    },
    {
      "metadata": {
        "trusted": true
      },
      "cell_type": "code",
      "source": "a=10\nfat1_a=fat1(a)\nfat2_a=fat2(a)\nprint(\"Fatorial de \",a,\" algoritmo iterativo\",fat1_a)\nprint(\"Fatorial de \",a,\" algoritmo recursivo\",fat2_a)",
      "execution_count": 76,
      "outputs": [
        {
          "output_type": "stream",
          "text": "Fatorial de  10  algoritmo iterativo 3628800\nFatorial de  10  algoritmo recursivo 3628800\n",
          "name": "stdout"
        }
      ]
    },
    {
      "metadata": {},
      "cell_type": "markdown",
      "source": "# Comandos do Linux e do Windows funcionam"
    },
    {
      "metadata": {},
      "cell_type": "markdown",
      "source": "Todos os comandos do Linux e do Windown funcionam com um ponto de exclamação à frente"
    },
    {
      "metadata": {},
      "cell_type": "markdown",
      "source": "Por exemplo, para ver os arquivos que tem no diretório (pasta) atual, o comando no Linux é ls"
    },
    {
      "metadata": {
        "trusted": true
      },
      "cell_type": "code",
      "source": "!ls",
      "execution_count": 77,
      "outputs": [
        {
          "output_type": "stream",
          "text": "Baskara.py  Primeiros Comandos em Python.ipynb\r\n",
          "name": "stdout"
        }
      ]
    },
    {
      "metadata": {},
      "cell_type": "markdown",
      "source": "e no Windows é o dir"
    },
    {
      "metadata": {
        "trusted": true
      },
      "cell_type": "code",
      "source": "!dir",
      "execution_count": 78,
      "outputs": [
        {
          "output_type": "stream",
          "text": "Baskara.py  Primeiros\\ Comandos\\ em\\ Python.ipynb\r\n",
          "name": "stdout"
        }
      ]
    },
    {
      "metadata": {},
      "cell_type": "markdown",
      "source": "Para saber em qual diretório você se encontra, o camando no linux é o pwd (print working directory)"
    },
    {
      "metadata": {
        "trusted": true
      },
      "cell_type": "code",
      "source": "!pwd",
      "execution_count": 79,
      "outputs": [
        {
          "output_type": "stream",
          "text": "/home/nbuser/library/PrimeiraAula\r\n",
          "name": "stdout"
        }
      ]
    },
    {
      "metadata": {},
      "cell_type": "markdown",
      "source": "Para rodar um arquivo Python que se encontra no diretório (Baskara.py, por exemplo), basta usar %run e o nome do arquivo"
    },
    {
      "metadata": {
        "trusted": true
      },
      "cell_type": "code",
      "source": "%run Baskara.py",
      "execution_count": 80,
      "outputs": [
        {
          "output_type": "stream",
          "name": "stdout",
          "text": "a = 1\nb = 4\nc = -8\n\nDelta:  48.0\nx1:  1.4641016151377544\nx2:  -5.464101615137754\n"
        }
      ]
    },
    {
      "metadata": {},
      "cell_type": "markdown",
      "source": "Para listar um arquivo, o comando no Linux é o cat:"
    },
    {
      "metadata": {
        "trusted": true
      },
      "cell_type": "code",
      "source": "!cat Baskara.py",
      "execution_count": 81,
      "outputs": [
        {
          "output_type": "stream",
          "text": "#!/usr/bin/env python3\r\n# -*- coding: utf-8 -*-\r\n\"\"\"\r\nCreated on Mon Jul 31 08:59:19 2017\r\n\r\n@author: eder\r\n\"\"\"\r\nimport numpy as np\r\na = float(input('a = '))\r\nb = float(input('b = '))\r\nc = float(input('c = '))\r\n\r\ndelta=b**2-4*a*c\r\nprint('\\nDelta: ',delta)\r\nif(delta>=0):\r\n    x1=(-b+np.sqrt(delta))/(2*a)\r\n    x2=(-b-np.sqrt(delta))/(2*a)\r\n    print('x1: ',x1)\r\n    print('x2: ',x2)\r\nelse:\r\n    print('Não existem raizes reais!!')",
          "name": "stdout"
        }
      ]
    },
    {
      "metadata": {},
      "cell_type": "markdown",
      "source": "Para saber a quantidade de memória que temos disponível"
    },
    {
      "metadata": {
        "trusted": true
      },
      "cell_type": "code",
      "source": "!free -m",
      "execution_count": 82,
      "outputs": [
        {
          "output_type": "stream",
          "text": "              total        used        free      shared  buff/cache   available\r\nMem:           3917         228        3593          17          95        3509\r\nSwap:             0           0           0\r\n",
          "name": "stdout"
        }
      ]
    },
    {
      "metadata": {
        "trusted": true
      },
      "cell_type": "code",
      "source": "!cat /proc/meminfo",
      "execution_count": 83,
      "outputs": [
        {
          "output_type": "stream",
          "text": "MemTotal:        4011580 kB\r\nMemFree:         3680260 kB\r\nMemAvailable:    3593816 kB\r\nBuffers:           23844 kB\r\nCached:            19488 kB\r\nSwapCached:            0 kB\r\nActive:           198192 kB\r\nInactive:           9360 kB\r\nActive(anon):     174144 kB\r\nInactive(anon):     8376 kB\r\nActive(file):      24048 kB\r\nInactive(file):      984 kB\r\nUnevictable:           0 kB\r\nMlocked:               0 kB\r\nSwapTotal:             0 kB\r\nSwapFree:              0 kB\r\nDirty:                28 kB\r\nWriteback:             0 kB\r\nAnonPages:        160128 kB\r\nMapped:             3472 kB\r\nShmem:             18364 kB\r\nSlab:              54480 kB\r\nSReclaimable:      36088 kB\r\nSUnreclaim:        18392 kB\r\nKernelStack:        3696 kB\r\nPageTables:         2436 kB\r\nNFS_Unstable:          0 kB\r\nBounce:                0 kB\r\nWritebackTmp:          0 kB\r\nCommitLimit:     2005788 kB\r\nCommitted_AS:     358988 kB\r\nVmallocTotal:   34359738367 kB\r\nVmallocUsed:           0 kB\r\nVmallocChunk:          0 kB\r\nAnonHugePages:     57344 kB\r\nShmemHugePages:        0 kB\r\nShmemPmdMapped:        0 kB\r\nHugePages_Total:       0\r\nHugePages_Free:        0\r\nHugePages_Rsvd:        0\r\nHugePages_Surp:        0\r\nHugepagesize:       2048 kB\r\nDirectMap4k:       15784 kB\r\nDirectMap2M:     3129344 kB\r\nDirectMap1G:     1048576 kB\r\n",
          "name": "stdout"
        }
      ]
    },
    {
      "metadata": {
        "trusted": true
      },
      "cell_type": "code",
      "source": "!cat /proc/cpuinfo",
      "execution_count": 84,
      "outputs": [
        {
          "output_type": "stream",
          "text": "processor\t: 0\r\nvendor_id\t: GenuineIntel\r\ncpu family\t: 6\r\nmodel\t\t: 79\r\nmodel name\t: Intel(R) Xeon(R) CPU E5-2673 v4 @ 2.30GHz\r\nstepping\t: 1\r\nmicrocode\t: 0xffffffff\r\ncpu MHz\t\t: 2294.684\r\ncache size\t: 51200 KB\r\nphysical id\t: 0\r\nsiblings\t: 2\r\ncore id\t\t: 0\r\ncpu cores\t: 2\r\napicid\t\t: 0\r\ninitial apicid\t: 0\r\nfpu\t\t: yes\r\nfpu_exception\t: yes\r\ncpuid level\t: 20\r\nwp\t\t: yes\r\nflags\t\t: fpu vme de pse tsc msr pae mce cx8 apic sep mtrr pge mca cmov pat pse36 clflush mmx fxsr sse sse2 ss ht syscall nx pdpe1gb rdtscp lm constant_tsc rep_good nopl xtopology cpuid pni pclmulqdq ssse3 fma cx16 sse4_1 sse4_2 movbe popcnt aes xsave avx f16c rdrand hypervisor lahf_lm abm 3dnowprefetch pti fsgsbase bmi1 hle avx2 smep bmi2 erms invpcid rtm rdseed adx smap xsaveopt ibpb ibrs stibp\r\nbugs\t\t: cpu_meltdown spectre_v1 spectre_v2\r\nbogomips\t: 4589.36\r\nclflush size\t: 64\r\ncache_alignment\t: 64\r\naddress sizes\t: 44 bits physical, 48 bits virtual\r\npower management:\r\n\r\nprocessor\t: 1\r\nvendor_id\t: GenuineIntel\r\ncpu family\t: 6\r\nmodel\t\t: 79\r\nmodel name\t: Intel(R) Xeon(R) CPU E5-2673 v4 @ 2.30GHz\r\nstepping\t: 1\r\nmicrocode\t: 0xffffffff\r\ncpu MHz\t\t: 2294.684\r\ncache size\t: 51200 KB\r\nphysical id\t: 0\r\nsiblings\t: 2\r\ncore id\t\t: 1\r\ncpu cores\t: 2\r\napicid\t\t: 1\r\ninitial apicid\t: 1\r\nfpu\t\t: yes\r\nfpu_exception\t: yes\r\ncpuid level\t: 20\r\nwp\t\t: yes\r\nflags\t\t: fpu vme de pse tsc msr pae mce cx8 apic sep mtrr pge mca cmov pat pse36 clflush mmx fxsr sse sse2 ss ht syscall nx pdpe1gb rdtscp lm constant_tsc rep_good nopl xtopology cpuid pni pclmulqdq ssse3 fma cx16 sse4_1 sse4_2 movbe popcnt aes xsave avx f16c rdrand hypervisor lahf_lm abm 3dnowprefetch pti fsgsbase bmi1 hle avx2 smep bmi2 erms invpcid rtm rdseed adx smap xsaveopt ibpb ibrs stibp\r\nbugs\t\t: cpu_meltdown spectre_v1 spectre_v2\r\nbogomips\t: 4589.36\r\nclflush size\t: 64\r\ncache_alignment\t: 64\r\naddress sizes\t: 44 bits physical, 48 bits virtual\r\npower management:\r\n\r\n",
          "name": "stdout"
        }
      ]
    },
    {
      "metadata": {
        "trusted": true
      },
      "cell_type": "code",
      "source": "",
      "execution_count": null,
      "outputs": []
    }
  ],
  "metadata": {
    "kernelspec": {
      "name": "python36",
      "display_name": "Python 3.6",
      "language": "python"
    },
    "language_info": {
      "mimetype": "text/x-python",
      "nbconvert_exporter": "python",
      "name": "python",
      "pygments_lexer": "ipython3",
      "version": "3.6.6",
      "file_extension": ".py",
      "codemirror_mode": {
        "version": 3,
        "name": "ipython"
      }
    }
  },
  "nbformat": 4,
  "nbformat_minor": 2
}