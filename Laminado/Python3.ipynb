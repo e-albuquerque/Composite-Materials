{
  "cells": [
    {
      "metadata": {
        "trusted": true
      },
      "cell_type": "code",
      "source": "%run ExSala.py",
      "execution_count": 2,
      "outputs": []
    },
    {
      "metadata": {
        "trusted": true
      },
      "cell_type": "code",
      "source": "ABD",
      "execution_count": 3,
      "outputs": [
        {
          "output_type": "execute_result",
          "execution_count": 3,
          "data": {
            "text/plain": "array([[119.65      ,  18.95      ,  13.5       , 100.875     ,\n        -33.375     , -33.75      ],\n       [ 18.95      ,  29.65      ,  13.5       , -33.375     ,\n        -34.125     , -33.75      ],\n       [ 13.5       ,  13.5       ,  18.95      , -33.75      ,\n        -33.75      , -33.375     ],\n       [100.875     , -33.375     , -33.75      , 570.88333333,\n        123.31666667,  94.5       ],\n       [-33.375     , -34.125     , -33.75      , 123.31666667,\n        180.88333333,  94.5       ],\n       [-33.75      , -33.75      , -33.375     ,  94.5       ,\n         94.5       , 123.31666667]])"
          },
          "metadata": {}
        }
      ]
    },
    {
      "metadata": {
        "trusted": true
      },
      "cell_type": "code",
      "source": "A=ABD[0:3,0:3]\nB=ABD[0:3,3:6]\nD=ABD[3:6,3:6]",
      "execution_count": 7,
      "outputs": []
    },
    {
      "metadata": {
        "trusted": true
      },
      "cell_type": "code",
      "source": "A",
      "execution_count": 8,
      "outputs": [
        {
          "output_type": "execute_result",
          "execution_count": 8,
          "data": {
            "text/plain": "array([[119.65,  18.95,  13.5 ],\n       [ 18.95,  29.65,  13.5 ],\n       [ 13.5 ,  13.5 ,  18.95]])"
          },
          "metadata": {}
        }
      ]
    },
    {
      "metadata": {
        "trusted": true
      },
      "cell_type": "code",
      "source": "B",
      "execution_count": 9,
      "outputs": [
        {
          "output_type": "execute_result",
          "execution_count": 9,
          "data": {
            "text/plain": "array([[100.875, -33.375, -33.75 ],\n       [-33.375, -34.125, -33.75 ],\n       [-33.75 , -33.75 , -33.375]])"
          },
          "metadata": {}
        }
      ]
    },
    {
      "metadata": {
        "trusted": true
      },
      "cell_type": "code",
      "source": "D",
      "execution_count": 10,
      "outputs": [
        {
          "output_type": "execute_result",
          "execution_count": 10,
          "data": {
            "text/plain": "array([[570.88333333, 123.31666667,  94.5       ],\n       [123.31666667, 180.88333333,  94.5       ],\n       [ 94.5       ,  94.5       , 123.31666667]])"
          },
          "metadata": {}
        }
      ]
    },
    {
      "metadata": {
        "trusted": true
      },
      "cell_type": "code",
      "source": "",
      "execution_count": null,
      "outputs": []
    }
  ],
  "metadata": {
    "kernelspec": {
      "name": "python36",
      "display_name": "Python 3.6",
      "language": "python"
    },
    "language_info": {
      "mimetype": "text/x-python",
      "nbconvert_exporter": "python",
      "name": "python",
      "pygments_lexer": "ipython3",
      "version": "3.6.6",
      "file_extension": ".py",
      "codemirror_mode": {
        "version": 3,
        "name": "ipython"
      }
    }
  },
  "nbformat": 4,
  "nbformat_minor": 2
}