{
  "cells": [
    {
      "metadata": {},
      "cell_type": "markdown",
      "source": "# Fração volumétrica de fibras e de matriz\n\\begin{equation}\nv_c=v_f+v_m\n\\end{equation}\n\n$v_c$: volume do compósito\n\n$v_f$: volume de fibras\n\n$v_m$: volume de matriz\n\\begin{equation}\nV_f=\\frac{v_f}{v_c}\n\\end{equation}\n$V_f$: fração volumétrica de fibras no compósito\n\n\\begin{equation}\nV_m=\\frac{v_m}{v_c}\n\\end{equation}\n\n$V_m$: fração volumétrica de matriz no compósito\n\n\\begin{equation}\nV_f+V_m=1\n\\end{equation}"
    },
    {
      "metadata": {},
      "cell_type": "markdown",
      "source": "# Fração de peso de fibras e matrizes\n\\begin{equation}w_c=w_f+w_m\\end{equation}\n\n$w_c$: peso do compósito\n\n$w_f$: peso de fibras\n\n$w_m$: peso de matriz\n\n\\begin{equation}\nW_f=\\frac{w_f}{w_c}\n\\end{equation}\n$W_f$: fração de peso de fibras no compósito\n\n\\begin{equation}\nW_m=\\frac{w_m}{w_c}\n\\end{equation}\n\n$W_m$: fração de peso de matriz no compósito\n\n# Densidade do compósito\n\n\\begin{equation}\\rho =\\frac{w}{v}\\end{equation}\n$\\rho$ = densidade\n\\begin{equation}v=\\frac{w}{\\rho}\\end{equation}\n\n\\begin{equation}v_c=v_f+v_m\\end{equation}\n\\begin{equation}\\frac{w_c}{\\rho_c}=\\frac{w_f}{\\rho_f}+\\frac{w_m}{\\rho_m}\\end{equation}\nDividindo ambos os lados por $w_c$, tem-se:\n\\begin{equation}\\frac{1}{\\rho_c}=\\frac{w_f}{w_c}\\frac{1}{\\rho_f}+\\frac{w_m}{w_c}\\frac{1}{\\rho_m}\\end{equation}\n\\begin{equation}\\frac{1}{\\rho_c}=\\frac{W_f}{\\rho_f}+\\frac{W_m}{\\rho_m}\\end{equation}\n\\begin{equation}\\rho_c=\\frac{1}{\\frac{W_f}{\\rho_f}+\\frac{W_m}{\\rho_m}}\\end{equation}\n"
    },
    {
      "metadata": {
        "trusted": true
      },
      "cell_type": "code",
      "source": "def calc_DensidadeComposito(rhof,rhom,wf,wm):\n    # Function para cálculo das frações volumétricas de fibra e matriz\n    wc=wf+wm # peso do compósito\n    Wf=wf/wc # fração em peso das fibras\n    Wm=wm/wc # fração em peso da matriz\n    rhoc=1/(Wf/rhof+Wm/rhom) # densidade do compósito\n    return rhoc",
      "execution_count": 2,
      "outputs": []
    },
    {
      "metadata": {},
      "cell_type": "markdown",
      "source": "\n\n# Cálculo das frações volumétricas\n\n\\begin{equation}\nV_f=\\frac{v_f}{v_c}=\\frac{w_f}{\\rho_f}\\frac{1}{v_c}\n\\end{equation}\n\n\\begin{equation}\nV_m=\\frac{v_m}{v_c}=\\frac{w_m}{\\rho_m}\\frac{1}{v_c}\n\\end{equation}\n"
    },
    {
      "metadata": {
        "trusted": true
      },
      "cell_type": "code",
      "source": "def calc_FracoesVolumetricas(rhof,rhom,wf,wm):\n    # Function para cálculo das frações volumétricas de fibra e matriz\n    wc=wf+wm # peso do compósito\n    Wf=wf/wc # fração em peso das fibras\n    Wm=wm/wc # fração em peso da matriz\n    rhoc=1/(Wf/rhof+Wm/rhom) # densidade do compósito\n    vc=wc/rhoc # volume do compósito\n    Vm=wm*rhom/vc # Fração volumétrica da matriz\n    Vf=wf*rhof/vc # Fração volumétrica das fibras\n    return Vf,Vm\n    ",
      "execution_count": 1,
      "outputs": []
    },
    {
      "metadata": {},
      "cell_type": "markdown",
      "source": "# Vazios presentes na matriz\n\nVazios estão presentes em compósitos poliméricos devido a bolhas que se formam na matriz durante a cura\n\nO volume de vazios deve ser minimizado pois as propriedades do compósitos se deterioram com o aumento de vazios.\n\nNormalmente se forma durante a cura da matriz, no caso de matrizes poliméricas.\n\nProcessos de fabricação mais baratos, como a moldagem manual {{\\it hand-lay-up|), é difícil deixar o volume de vazios em níveis aceitáveis.\n\nBolsas de vácuo e auto-claves com pressão positivas são usadas para minimizar o volume de vazios.\n\nPor definição:\n\n\\begin{equation} \nV_v=\\frac{v_v}{v_c}\n\\label{fvazio}\n\\end{equation}\n\n$V_v$: fração volumétrica de vazios\n\n$v_v$: volume de vazios\n\n$v_c$: volume do compósito medido (considerando o volume de vazios)\n\n\\begin{equation}\nv_v=v_c-v_f-v_m\n\\label{vvazio}\n\\end{equation}\n\nDaí, tem-se\n\\begin{equation}\n\\frac{v_v}{v_c}=\\frac{v_c-v_f-v_m}{v_c}=1-\\frac{v_f}{v_c}-\\frac{v_m}{v_c}\\end{equation}\n\n\n\\begin{equation}V_v=1-V_f-V_m\\end{equation}\n\n\nÉ possível calcular $V_v$ a partir da densidade teórica do compósito e da densidade medida. \n\nUma vez que os vazios tem massa desprezíveis, tem-se que:\n\n\\begin{equation}w_{ct}=w_{ce}\\end{equation}\n\n$w_{ct}$: peso teórico do compósito, ou seja, sem vazios.\n\n$w_{ct}=w_f+w_m$\n\n$w_{ce}$: peso do material compósito obtido por pesagem.\n\nDaí, tem-se:\n\n\\begin{equation}\\rho_{ct}v_{ct}=\\rho_{ce}v_{ce}\\end{equation}\n\n$v_{ct}$: volume teórico do material compósito.\n\n$v_{ce}$: volume experimental do material compósito.\n\n$\\rho_{ct}$: densidade teórica do material compósito.\n\n$\\rho_{ce}$: densidade experimental do material compósito.\n\n\n\\begin{equation}\nw_{ct}=w_f+w_m\n\\end{equation}\n\n\n\n\n\\begin{equation}\\rho_{ct}\\frac{(v_v-v_{ce})}{v_{ce}}=\\rho_{ce}\\frac{v_{ce}}{v_e}\\end{equation}\n\n\\begin{equation}\\rho_{ce}=\\rho_{ct}(1-V_v)\\end{equation}\n\n\\begin{equation}\nV_v=1-\\frac{\\rho_{ce}}{\\rho_{ct}}\n\\end{equation}\n\n\\begin{equation}\n            V_v=\\frac{\\rho_{ct}-\\rho_{ce}}{\\rho_{ct}}\n\\end{equation}\n\n\n"
    },
    {
      "metadata": {},
      "cell_type": "markdown",
      "source": "# Exercício resolvido\n\nUm material compósito polimérico termoplástico possui 40% do seu peso composto de fibras de vidro. Se a densidade da matriz é 1,1 g/cm$^3$ e a densidade da fibra é  2,5 g/cm$^3$, qual é a densidade do compósito? Assuma que não há vazios presente."
    },
    {
      "metadata": {
        "trusted": true
      },
      "cell_type": "code",
      "source": "# Resolução do exercício:\nrhof=2.5 # Densidade das fibras\nrhom=1.1 # Densidade da matriz\nWf=0.4 # Fração de peso da fibra\n\n# Pegando 100 g do compósitos, tem-se:\nwc=100\nwf=Wf*wc\nWm=1-Wf\nwm=Wm*wc\nrhoc=calc_DensidadeComposito(rhof,rhom,wf,wm)\nprint(\"A densidade do compósito é:\",rhoc)",
      "execution_count": 4,
      "outputs": [
        {
          "output_type": "stream",
          "text": "A densidade do compósito é: 1.4175257731958764\n",
          "name": "stdout"
        }
      ]
    },
    {
      "metadata": {},
      "cell_type": "markdown",
      "source": "# Exercício 1\n\nUm teste de queima foi realizado para determinar a fração volumétrica dos constituintes de um compósito de epóxi-fibra de vidro. As seguintes observações foram realizadas:\n\nPeso do recipiente vazio: 47,6504 g.\n\nPeso do recipiente com um pequeno pedaço do material compósito: 50,1817 g.\n\nPeso do recipiente com a fibra de vidro depois da queima: 49,4476 g.\n\nCalcule as frações de peso e de volume de fibra de vidro no compósito. Assuma que a densidade da fibra e da resina são iguais a 2,5 e 1,2 g/cm$^3$, respectivamente."
    },
    {
      "metadata": {},
      "cell_type": "markdown",
      "source": "# Exercício 2\nCalcule a densidade do compósito do exercício anterior. Se a densidade determinada experimentalmente foi de 1,86 g/cm$^3$, calcule o volume de vazios no compósito."
    },
    {
      "metadata": {
        "trusted": true
      },
      "cell_type": "code",
      "source": "",
      "execution_count": null,
      "outputs": []
    }
  ],
  "metadata": {
    "kernelspec": {
      "name": "python36",
      "display_name": "Python 3.6",
      "language": "python"
    },
    "language_info": {
      "mimetype": "text/x-python",
      "nbconvert_exporter": "python",
      "name": "python",
      "pygments_lexer": "ipython3",
      "version": "3.6.6",
      "file_extension": ".py",
      "codemirror_mode": {
        "version": 3,
        "name": "ipython"
      }
    }
  },
  "nbformat": 4,
  "nbformat_minor": 1
}